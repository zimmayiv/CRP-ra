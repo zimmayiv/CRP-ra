{
 "cells": [
  {
   "cell_type": "code",
   "execution_count": 50,
   "id": "041d8276",
   "metadata": {},
   "outputs": [],
   "source": [
    "from urllib.request import urlopen\n",
    "from PyPDF2 import PdfReader\n",
    "import requests\n",
    "import io\n",
    "import pandas as pd\n",
    "from bs4 import BeautifulSoup\n",
    "import re\n",
    "import csv\n",
    "from datetime import datetime\n",
    "import spacy\n",
    "from spacy import displacy\n",
    "from dateparser.search import search_dates\n"
   ]
  },
  {
   "cell_type": "code",
   "execution_count": 6,
   "id": "ed05e52e",
   "metadata": {},
   "outputs": [],
   "source": [
    "def shooting_pdfurls():\n",
    "    currentyear = 2024\n",
    "    pdfurls = []\n",
    "    srcurls = ['https://da.lacounty.gov/reports/ois/' + str(y) for y in range(2016, currentyear)] + \\\n",
    "        ['https://da.lacounty.gov/reports/ois/']\n",
    "    for srcurl in srcurls:\n",
    "        req=requests.get(srcurl)\n",
    "        soup = BeautifulSoup(req.content,\"html\")\n",
    "        content = soup.find_all(\"div\", {\"class\": \"field-items\"})\n",
    "        for p in content:\n",
    "            for a in p(\"a\"):\n",
    "                filepath = a.get('href')\n",
    "                rex = re.search(\"JSID-OIS.*\\.pdf$\", filepath)\n",
    "                if rex:\n",
    "                    pdfurl = 'https://da.lacounty.gov' + filepath\n",
    "                    filename = rex[0]\n",
    "                    pdfurls += [pdfurl]\n",
    "    return list(set(pdfurls))"
   ]
  },
  {
   "cell_type": "code",
   "execution_count": 11,
   "id": "58fe7998",
   "metadata": {},
   "outputs": [],
   "source": [
    "# features to extract to database:\n",
    "# name(s) of victim(s)\n",
    "# officers involved: which agency, deputy names, and badge numbers. \n",
    "# jsid file number\n",
    "# internal file number(s) for involved agencies\n",
    "# date of filing\n",
    "# conclusion text\n",
    "# conclusion - maybe need NLP\n",
    "# action taken - need NLP\n",
    "\n",
    "# geolocation, incident date would be ideal. but those are not always available,\n",
    "# and when available need to extracted from the document text, probably can only be \n",
    "# reliably accomplished by a finetuned powerful transformer. \n",
    "# or just human labor, since it's only a few hundred documents"
   ]
  },
  {
   "cell_type": "code",
   "execution_count": 28,
   "id": "a1fcb303",
   "metadata": {},
   "outputs": [],
   "source": [
    "# first layer of processing: extract\n",
    "# title\n",
    "# departments \n",
    "# list of officers w/ badge numbers\n",
    "# jsid number\n",
    "# date of filing\n",
    "# file numbers\n",
    "# conclusion text\n",
    "\n",
    "def shooting_preprocess(url):\n",
    "    try:\n",
    "        response = requests.get(url)\n",
    "    except:\n",
    "        print('Malformed URL exception thrown at URL: ' + url)\n",
    "        return False\n",
    "    with io.BytesIO(response.content) as f:\n",
    "        try:\n",
    "            pdf = PdfReader(f)\n",
    "            covertext = pdf.pages[0].extract_text() \n",
    "            # the first page contains fatal/nonftal, officers, jsid number district attorney, date of filing\n",
    "            coverlines = covertext.splitlines()\n",
    "            coverlines = [line for line in coverlines if line.strip()]\n",
    "        except:\n",
    "            print('404 exception thrown at URL: ' + url)\n",
    "            return False\n",
    "        try:\n",
    "            # find the line which has \"department,\" \"patrol,\" or \"administration\" (modulo taxicab 1)\n",
    "            # if multiple, throw a formatting exception\n",
    "            deptlines = [s for s in coverlines \\\n",
    "                         if \"depart\" in s.lower() or \"artment\" in s.lower() \\\n",
    "                         or \"patrol\" in s.lower() or \"admin\" in s.lower() or \"bureau\" in s.lower()]\n",
    "            if len(deptlines) != 1:\n",
    "                print('Unable to recognize department line at URL: ' + url)\n",
    "                return False\n",
    "            deptindex = coverlines.index(deptlines[0])\n",
    "            # title is concatenation of lines prior to department line. clean title. \n",
    "            title = ''.join(coverlines[0:deptindex])\n",
    "            department = re.sub(r' ([^A-Z])', r'\\1', deptlines[0]) # strip all spaces not before capital letters\n",
    "            i = deptindex + 1\n",
    "            # deputies are concatenation of lines following department line. clean deputies\n",
    "            deputies = []\n",
    "            while coverlines[i][0:7] != 'J.S.I.D':\n",
    "                line = coverlines[i].replace(\",\", \"\") # strip commas\n",
    "                line = line.replace(\"#\", \"\") # strip number sign\n",
    "                line = line.replace(\"and\", \"\") # strip the word \"and\"\n",
    "                line = re.sub(' +', ' ', line) # strip extra whitespaces\n",
    "                line = line.strip() # strip beginning and trailing whitespace\n",
    "                # strip all spaces between numbers\n",
    "                line = re.sub(r'(\\d)\\s+(\\d)', r'\\1\\2', line)\n",
    "                # split at every number\n",
    "                linesplit = re.split(r'(\\d+)', line)\n",
    "                for l in linesplit:\n",
    "                    if not l.isspace() and l:\n",
    "                        l = re.sub(r' ([^A-Z])', r'\\1', l) # strip all spaces not before capital letters\n",
    "                        deputies += [l.strip()]\n",
    "                i += 1\n",
    "            # if deputies is empty, throw exception\n",
    "            if len(deputies) == 0:\n",
    "                print('Empty deputies list at URL: ' + url)\n",
    "                return False\n",
    "            # until J.S.I.D., it's deputy names\n",
    "\n",
    "            jsid = coverlines[i].split('#', 1)[-1] # jsid number after number sign\n",
    "            jsid = re.sub(r' ', '', jsid) # remove all whitespace from jsid\n",
    "            date = coverlines[-1]\n",
    "            # strip date\n",
    "            # remove all spaces not before capital letters or numbers\n",
    "            date = re.sub(r'([0-9]) ([0-9])', r'\\1\\2', date) # strip all spaces between two numbers\n",
    "            date = date.replace(\",\", \"\") # strip all commas\n",
    "            date = re.sub(' +', ' ', date) # strip extra whitespaces\n",
    "            date = re.sub(r'(?<=[a-z]) (?=[a-z])', '', date) # remove all whitespaces between lowercases\n",
    "            date = date.strip() # strip beginning and trailing whitespace\n",
    "            date = search_dates(date)[0][0]\n",
    "        except:\n",
    "            print('Other text exception thrown at URL: ' + url)\n",
    "            return False\n",
    "        \n",
    "        page1text = pdf.pages[1].extract_text()\n",
    "        page1lines = page1text.splitlines()\n",
    "        files = [] \n",
    "        for l in page1lines: # try this cruder way to get files\n",
    "            if \"#\" in l and \"J.S.I.D\" not in l and \"deputy\" not in l.lower() and \"officer\" not in l.lower():\n",
    "                files += [l.strip()] \n",
    "        \n",
    "        maintext = [p.extract_text() for p in pdf.pages[1:]]\n",
    "        wholetext = ''.join(maintext)\n",
    "        '''\n",
    "        subj = re.search(r\"S[\\s]*UBJEC[\\s]*T[\\s]*:(.*?)DA[\\s]*T[\\s]*E\", wholetext, re.DOTALL)\n",
    "        if not subj:\n",
    "            subj = re.search(r\"RE[\\s]*:(.*?)DATE\", wholetext, re.DOTALL)\n",
    "            if not subj:\n",
    "                print(\"no subject found at url \" + url)\n",
    "                return False\n",
    "        subjinfo = subj.group(1).strip()\n",
    "        # this should catch all of the subjects. now for each line with a # but no \"J.S.I.D\", capture it\n",
    "        subjlines = subjinfo.splitlines()\n",
    "        files = []\n",
    "        for l in subjlines:\n",
    "            if \"#\" in l and \"J.S.I.D\" not in l:\n",
    "                files += [l.strip()]            \n",
    "        '''\n",
    "        \n",
    "        # get everything from factual/summary heading until \"LAW\" or \"LEGAL\" or \"ANALYSIS\" or \"CONCLUSION\"\n",
    "        # get everything after conclusion heading\n",
    "        wholelines = wholetext.splitlines()\n",
    "        # factstr = \"\"\n",
    "        constr = \"\"\n",
    "        # factflag = False\n",
    "        conflag = False\n",
    "        for l in wholelines:\n",
    "            stripl = l.replace(\" \", \"\")\n",
    "            # if \"LAW\" in stripl or \"LEGAL\" in stripl or \"ANALYSIS\" in stripl:\n",
    "                # factflag = False\n",
    "            # if \"FACT\" in stripl or \"SUMMARY\" in stripl: \n",
    "                # factflag = True\n",
    "            if \"CONCLUSION\" in stripl or stripl.upper() == \"CONCLUSION\":\n",
    "                # factflag = False\n",
    "                if conflag == True:\n",
    "                    print(\"Multiple conclusions found at url \" + url)\n",
    "                conflag = True\n",
    "            # if factflag:\n",
    "                # factstr += l\n",
    "            if conflag:\n",
    "                constr += l        \n",
    "        return [url, title, str({department: deputies}), jsid, date, files, constr]\n",
    "        # there's one random lowercase conclusion. one weird \"attachment\" with two conclusions."
   ]
  },
  {
   "cell_type": "code",
   "execution_count": 29,
   "id": "dfa386f6",
   "metadata": {},
   "outputs": [],
   "source": [
    "pdfurls = shooting_pdfurls()"
   ]
  },
  {
   "cell_type": "code",
   "execution_count": 30,
   "id": "b35bee36",
   "metadata": {
    "scrolled": true
   },
   "outputs": [
    {
     "name": "stdout",
     "output_type": "stream",
     "text": [
      "Unable to recognize department line at URL: https://da.lacounty.gov/sites/default/files/pdf/JSID-OIS-11-21-23-Martinez.pdf\n",
      "404 exception thrown at URL: https://da.lacounty.gov/sites/default/files/JSID-OIS-06-21-22-Mountford.pdf\n",
      "Unable to recognize department line at URL: https://da.lacounty.gov/sites/default/files/pdf/JSID-OIS-11-20-2020-Chavez.pdf\n",
      "Unable to recognize department line at URL: https://da.lacounty.gov/sites/default/files/pdf/JSID-OIS-10-19-23-Loia.pdf\n",
      "404 exception thrown at URL: https://da.lacounty.gov/sites/default/files/pdf/JSID-OIS-11-21-23-Stevenson.pdf\n",
      "Unable to recognize department line at URL: https://da.lacounty.gov/sites/default/files/pdf/JSID-OIS-12-15-22-Diaz_0.pdf\n",
      "Unable to recognize department line at URL: https://da.lacounty.gov/sites/default/files/pdf/JSID-OIS-08-29-22-Meza.pdf\n",
      "Unable to recognize department line at URL: https://da.lacounty.gov/sites/default/files/pdf/JSID-OIS-12-20-23-Hart-Cabrera-Martinez-Lindsey.pdf\n",
      "Unable to recognize department line at URL: https://da.lacounty.gov/sites/default/files/pdf/JSID-OIS-07-15-21-Hunter.pdf\n",
      "404 exception thrown at URL: https://da.lacounty.gov/sites/default/files/JSID-OIS-06-22-22-White.pdf\n",
      "404 exception thrown at URL: https://da.lacounty.gov/sites/default/files/pdf/JSID-OIS-04-13-23-AnthonyW.pdf\n",
      "Unable to recognize department line at URL: https://da.lacounty.gov/sites/default/files/pdf/JSID-OIS-11-30-22-Cervantes_0.pdf\n",
      "Unable to recognize department line at URL: https://da.lacounty.gov/sites/default/files/pdf/JSID-OIS-07-26-22-Lugo-Pina.pdf\n",
      "Empty deputies list at URL: https://da.lacounty.gov/sites/default/files/pdf/JSID-OIS-06-05-24-Lopez.pdf\n",
      "Multiple conclusions found at url https://da.lacounty.gov/sites/default/files/pdf/JSID-OIS-09-06-23-Holder.pdf\n",
      "Unable to recognize department line at URL: https://da.lacounty.gov/sites/default/files/pdf/JSID-OIS-10-19-23-Loia_0.pdf\n",
      "Malformed URL exception thrown at URL: https://da.lacounty.govhttps://test.da.lacounty.gov/sites/default/files/pdf/JSID-OIS-06-28-23-Martinez.pdf\n",
      "Other text exception thrown at URL: https://da.lacounty.gov/sites/default/files/pdf/JSID-OIS-05-20-24-Gonzalez.pdf\n",
      "Unable to recognize department line at URL: https://da.lacounty.gov/sites/default/files/pdf/JSID-OIS-12-07-23-Samaniego.pdf\n"
     ]
    }
   ],
   "source": [
    "shooting_csv = []\n",
    "for p in pdfurls:\n",
    "    newrow = shooting_preprocess(p)\n",
    "    if newrow:\n",
    "        shooting_csv += [newrow]"
   ]
  },
  {
   "cell_type": "code",
   "execution_count": 31,
   "id": "ba8b9074",
   "metadata": {},
   "outputs": [],
   "source": [
    "anomaly_rows = []"
   ]
  },
  {
   "cell_type": "code",
   "execution_count": 32,
   "id": "704c6d62",
   "metadata": {},
   "outputs": [],
   "source": [
    "# known broken links:\n",
    "# 2022: white, mountford, \n",
    "# 2023: stevenson, rolando martinez, anthonyW\n",
    "# all can be skipped (they're just redundant with working links)\n",
    "# for the other anomalies, add each row to shootings.csv manually  as below\n",
    "url = \"https://da.lacounty.gov/sites/default/files/pdf/JSID-OIS-11-21-23-Martinez.pdf\"\n",
    "title = \"Non-Fatal Officer Involved Shooting of Jose Martinez\"\n",
    "deputies_by_dept = { \"Los Angeles County Sheriff’s Department\": \\\n",
    "                   [\"Deputy Nicholas Carey\", \"552242\", \"Deputy Eric Slattery\", \"624622\", \\\n",
    "                    \"Deputy Nicholas Alerich\", \"610403\", \"Deputy Andrew Roxas\", \"611035\"], \\\n",
    "                    \"Bell Police Department\": [\"Officer Angela Arutunian\", \"250\", \"Officer Javier Avila\", \"240\"] \\\n",
    "                   } # maybe throw out the names, just keep the numbers?\n",
    "jsid = \"20-0186\"\n",
    "date = \"November 21 2023\"\n",
    "files = [\"B.P.D. File #20-1353\", \"L.A.S.D. File #020-07905-2111-011\", \"L.A.S.D. File #020-07905-2111-013\"]\n",
    "\n",
    "constr = \"\"\"We conclude, based on the totality of the evidence provided, that the deputies and officers\n",
    "reasonably believed their use of force was necessary to defend against an imminent threat of\n",
    "death or great bodily injury.\"\"\"\n",
    "\n",
    "anomaly_rows += [[url, title, str(deputies_by_dept), jsid, date, files, constr]]\n",
    "\n"
   ]
  },
  {
   "cell_type": "code",
   "execution_count": 33,
   "id": "e3835fc2",
   "metadata": {},
   "outputs": [],
   "source": [
    "url = \"https://da.lacounty.gov/sites/default/files/pdf/JSID-OIS-08-29-22-Meza.pdf\"\n",
    "title = \"Fatal Officer Involved Shooting of Jose Meza\"\n",
    "deputies_by_dept = { \"Los Angeles County Sheriff’s Department\": \\\n",
    "                   [\"Deputy Grant Roth\", \"502208\"], \\\n",
    "                    \"San Gabriel Police Department\": [\"Detective Enrique De Anda\", \"116\"] \\\n",
    "                   } # maybe throw out the names, just keep the numbers?\n",
    "jsid = \"19-0258\"\n",
    "date = \"August 29 2022\"\n",
    "files = [\"BS.G.P.D. File #2019-01323\", \"L.A.S.D. File #019-00054-3199-013\"]\n",
    "\n",
    "constr = \"\"\"We conclude that the deadly force utilized by Deputy Grant Roth and Detective Enrique De\n",
    "Anda was legally justified in self-defense and the defense of others.\"\"\"\n",
    "\n",
    "anomaly_rows += [[url, title, str(deputies_by_dept), jsid, date, files, constr]]\n",
    "\n"
   ]
  },
  {
   "cell_type": "code",
   "execution_count": 34,
   "id": "5440279b",
   "metadata": {},
   "outputs": [],
   "source": [
    "url = \"https://da.lacounty.gov/sites/default/files/pdf/JSID-OIS-12-07-23-Samaniego.pdf\"\n",
    "title = \"Non-Fatal Officer Involved Shooting of Gabriel Adrian Samaniego\"\n",
    "deputies_by_dept = { \"Los Angeles County Sheriff’s Department\": \n",
    "                   [\"Deputy Juan Lopez\", \"458967\", \"Deputy Cesar Hernandez\", \"648628\"], \n",
    "                    \"California Highway Patrol\": [\"Officer Hector Placencia\", \"22142\", \n",
    "                                                    \"Officer Yimi Osorio\", \"22225\", \n",
    "                                                    \"Officer Jennifer Sanchez\", \"22721\", \n",
    "                                                    \"Officer Daniel Castaneda\", \"21551\"] \n",
    "                   } # maybe throw out the names, just keep the numbers?\n",
    "jsid = \"22-0168\"\n",
    "date = \"December 7 2023\"\n",
    "files = [\"C.H.P. File # MCU-099-509-22\", \"L.A.S.D. File #022-80007-6837-013\"]\n",
    "\n",
    "constr = \"\"\"For the foregoing reasons, we find that the evidence demonstrates that CHP Officers Sanchez,\n",
    "Osorio, Castaneda, Gonzalez, and LASD Deputies Lopez and Hernandez acted in lawful self-\n",
    "defense when they used deadly force against Gabriel Adrian Samaniego.\"\"\"\n",
    "\n",
    "anomaly_rows += [[url, title, str(deputies_by_dept), jsid, date, files, constr]]\n"
   ]
  },
  {
   "cell_type": "code",
   "execution_count": 35,
   "id": "9d6efc6d",
   "metadata": {},
   "outputs": [],
   "source": [
    "url = \"https://da.lacounty.gov/sites/default/files/pdf/JSID-OIS-12-20-23-Hart-Cabrera-Martinez-Lindsey.pdf\"\n",
    "title = \"Non-Fatal Officer Involved Shooting of Alison Hart and Adolfo Cabrera-Martinez and \\\n",
    "        No-Hit Officer Involved Shooting at Dylan Lindsey\"\n",
    "deputies_by_dept = { \"Los Angeles County Sheriff’s Department\": \n",
    "                   [\"Deputy Art Hernandez\", \"609650\", \"Deputy Jonathan Charrette\", \"617257\",\n",
    "                    \"Deputy Rene Vasquez\", \"274557\", \"Deputy David Vega\", \"538845\"], \n",
    "                    \"Downey Police Department\": [\"Corporal Drew Lofquist\", \"12476\", \n",
    "                                                 \"Officer Alejandro Zuniga\", \"13498\"] \n",
    "                   } # maybe throw out the names, just keep the numbers?\n",
    "jsid = \"19-0201\"\n",
    "date = \"December 20 2023\"\n",
    "files = [\"D.P.D. File #19-29796\", \"L.A.S.D. File #019-00046-3199-013\"]\n",
    "\n",
    "constr = \"\"\"It is our conclusion, Corporal Lofquist, Officer Zuniga, and Deputies Hernandez, Charrette,\n",
    "Vasquez, and Vega acted in lawful self-defense and defense of others when they fired their\n",
    "weapons at Lindsey. We further conclude that the rounds fired by the officers did not strike\n",
    "Lindsey, who died of a self-inflicted gunshot wound to the head, though rounds fired by\n",
    "unknown officers did strike Hart and Cabrera-Martinez, who were nonfatally injured.\"\"\"\n",
    "\n",
    "anomaly_rows += [[url, title, str(deputies_by_dept), jsid, date, files, constr]]\n"
   ]
  },
  {
   "cell_type": "code",
   "execution_count": 36,
   "id": "261639b0",
   "metadata": {},
   "outputs": [],
   "source": [
    "url = \"https://da.lacounty.gov/sites/default/files/pdf/JSID-OIS-07-26-22-Lugo-Pina.pdf\"\n",
    "title = \"Fatal Officer Involved Shooting of Tony Lugo and Non-Fatal Shooting at Ranfere Pina\"\n",
    "deputies_by_dept = { \"Los Angeles County Sheriff’s Department\": \n",
    "                   [\"Deputy Joshua Mejia\", \"462487\", \"Deputy Christopher McDonald\", \"641043\"], \n",
    "                    \"California Highway Patrol\": [\"Officer Erik Davis\", \"21851\"] \n",
    "                   } # maybe throw out the names, just keep the numbers?\n",
    "jsid = \"20-0220\"\n",
    "date = \"July 26 2022\"\n",
    "files = [\"C.H.P. File #F202000717\", \"L.A.S.D. File #020-07976-2608-013\"]\n",
    "\n",
    "constr = \"\"\"We find that Deputies Joshua Mejia and Christopher McDonald and Officer Erik Davis acted\n",
    "lawfully in self-defense and the defense of others when they used deadly force against Tony Lugo\n",
    "and Ranfere Pina.\"\"\"\n",
    "\n",
    "anomaly_rows += [[url, title, str(deputies_by_dept), jsid, date, files, constr]]\n"
   ]
  },
  {
   "cell_type": "code",
   "execution_count": 37,
   "id": "84e11051",
   "metadata": {},
   "outputs": [],
   "source": [
    "url = \"https://da.lacounty.gov/sites/default/files/pdf/JSID-OIS-11-20-2020-Chavez.pdf\"\n",
    "title = \"Fatal Officer Involved Shooting of Christian Rigoberto Chavez\"\n",
    "deputies_by_dept = { \"South Gate Police Department\": [\"Detective Daniel Bernabe\", \"10098\"\n",
    "                                                        \"Detective George Chaves\", \"10123\"\n",
    "                                                        \"Officer Adam Cook\", \"10141\"\n",
    "                                                        \"Officer Anthony Reyes\", \"10205\"\n",
    "                                                        \"Officer Gilberto Varela\", \"10215\"], \n",
    "                    \"Huntington Park Police Department\": [\"Sergeant Steve Thoreson\", \"556\"] \n",
    "                   } # maybe throw out the names, just keep the numbers?\n",
    "jsid = \"17-0546\"\n",
    "date = \"November 20 2020\"\n",
    "files = [\"S.G.P.D. File #17-13932\", \"H.P.P.D. File #171127-0089\", \"L.A.S.D. File #017-00125-3199-013\"]\n",
    "\n",
    "constr = \"\"\"We find that Bernabe, Chaves, Cook, Reyes, Thoreson and Varela acted in lawful self-defense\n",
    "and in the lawful defense of others when they fired their duty weapons. We are closing our file\n",
    "and will take no further action in this matter.\"\"\"\n",
    "\n",
    "anomaly_rows += [[url, title, str(deputies_by_dept), jsid, date, files, constr]]\n"
   ]
  },
  {
   "cell_type": "code",
   "execution_count": 38,
   "id": "f1480697",
   "metadata": {},
   "outputs": [],
   "source": [
    "url = \"https://da.lacounty.gov/sites/default/files/pdf/JSID-OIS-11-30-22-Cervantes_0.pdf\"\n",
    "title = \"Non-Fatal Officer Involved Shooting of Isais Cervantes\"\n",
    "deputies_by_dept = { \"Los Angeles County Sheriff's Department\": [\"Deputy David Vega\", \"538845\"] \n",
    "                   } # maybe throw out the names, just keep the numbers?\n",
    "jsid = \"21-0128\"\n",
    "date = \"November 30 2022\"\n",
    "files = [\"L.A.S.D. File #021-04312-0262-058\"]\n",
    "\n",
    "constr = \"\"\"We have determined there is insufficient evidence to prove Deputy Vega did not act in lawful self-defense\n",
    "        and the defense of his partner when he fired his duty weapon.\"\"\"\n",
    "\n",
    "anomaly_rows += [[url, title, str(deputies_by_dept), jsid, date, files, constr]]\n"
   ]
  },
  {
   "cell_type": "code",
   "execution_count": 39,
   "id": "6ebc00d8",
   "metadata": {},
   "outputs": [],
   "source": [
    "url = \"https://da.lacounty.gov/sites/default/files/pdf/JSID-OIS-06-05-24-Lopez.pdf\"\n",
    "title = \"Fatal Officer Involved Shooting of Miguel Lopez\"\n",
    "deputies_by_dept = { \"Los Angeles County Sheriff's Department\": [\"Deputy Marc Elizondo\", \"501581\", \n",
    "                                                                 \"Deputy Edward Martinez\", \"506119\"] \n",
    "                   } # maybe throw out the names, just keep the numbers?\n",
    "jsid = \"23-0023\"\n",
    "date = \"June 5 2024\"\n",
    "files = [\"L.A.S.D. File #023-01205-0250-0138\"]\n",
    "\n",
    "constr = \"\"\"For the foregoing reasons, we find that the use of deadly force by Deputies Martinez and\n",
    "Elizondo was lawful and reasonable defense of themselves and others.\"\"\"\n",
    "\n",
    "anomaly_rows += [[url, title, str(deputies_by_dept), jsid, date, files, constr]]\n"
   ]
  },
  {
   "cell_type": "code",
   "execution_count": 40,
   "id": "f74b1a3d",
   "metadata": {},
   "outputs": [],
   "source": [
    "url = \"https://da.lacounty.gov/sites/default/files/pdf/JSID-OIS-12-15-22-Diaz_0.pdf\"\n",
    "title = \"Fatal Officer Involved Shooting of Christopher Diaz\"\n",
    "deputies_by_dept = { \"Montebello Police Department\": [\"Officer Craig Adams\", \"1356\",\n",
    "                                                    \"Officer Andrew Fivecoat\", \"1379\"] \n",
    "                   } # maybe throw out the names, just keep the numbers?\n",
    "jsid = \"17-0409\"\n",
    "date = \"December 15 2022\"\n",
    "files = [\"Montebello P.D. File # 2017-00005397\", \n",
    "         \"ATF File # ATF-FRO-2017-3038\", \"LASD File #017-00097-3199-013\"]\n",
    "\n",
    "constr = \"\"\"Fivecoat, Adams and Ciccone acted lawfully in self-defense, the defense of each other and in\n",
    "apprehending a person they believed to be a fleeing felon.\"\"\"\n",
    "\n",
    "anomaly_rows += [[url, title, str(deputies_by_dept), jsid, date, files, constr]]\n"
   ]
  },
  {
   "cell_type": "code",
   "execution_count": 41,
   "id": "f969d830",
   "metadata": {},
   "outputs": [],
   "source": [
    "url = \"https://da.lacounty.gov/sites/default/files/pdf/JSID-OIS-10-19-23-Loia.pdf\"\n",
    "title = \"Fatal Officer Involved Shooting of Anthony Loia\"\n",
    "deputies_by_dept = { \"Long Beach Police Department\": [\"Darrek Cano\", \"11104\", \"Bryan Pasion\", \n",
    "                                                      \"10845\", \"Keyen Foley\", \n",
    "                                                      \"10908\", \"Juan Urrieta\",\n",
    "                                                    \"10802\", \"Julian Perez\", \"11201\"] \n",
    "                   } # maybe throw out the names, just keep the numbers?\n",
    "jsid = \"21-0054\"\n",
    "date = \"October 19 2023\"\n",
    "files = [\"L.B.P.D. File #21-6195\"]\n",
    "\n",
    "constr = \"\"\"Based on the totality of the evidence, we find We find that it was reasonable based on the totality\n",
    "of the circumstances for LBPD Officers Darrek Cano, Bryan Pasion, Keyen Foley, Juan Urrieta,\n",
    "and Julian Perez to believe deadly force was necessary to defend against an imminent threat of\n",
    "death or serious bodily injury.\"\"\"\n",
    "\n",
    "anomaly_rows += [[url, title, str(deputies_by_dept), jsid, date, files, constr]]\n"
   ]
  },
  {
   "cell_type": "code",
   "execution_count": 42,
   "id": "9bc6c30b",
   "metadata": {},
   "outputs": [],
   "source": [
    "url = \"https://da.lacounty.gov/sites/default/files/pdf/JSID-OIS-05-20-24-Gonzalez.pdf\"\n",
    "title = \"Non-Fatal Officer Involved Shooting of Ramon Gonzalez\"\n",
    "deputies_by_dept = { \"Los Angeles Police Department\": [\"Officer Chris Mazmanyan\", \"41771\"] \n",
    "                   } # maybe throw out the names, just keep the numbers?\n",
    "jsid = \"23-0039\"\n",
    "date = \"May 20 2024\"\n",
    "files = [\"L.A.P.D. File #F005-23\"]\n",
    "\n",
    "constr = \"\"\"For the foregoing reasons, we find that Officer Mazmanyan’s use of deadly force was reasonable\n",
    "under the circumstances, and he acted lawfully in self-defense.\"\"\"\n",
    "\n",
    "anomaly_rows += [[url, title, str(deputies_by_dept), jsid, date, files, constr]]\n"
   ]
  },
  {
   "cell_type": "code",
   "execution_count": 43,
   "id": "73004406",
   "metadata": {},
   "outputs": [],
   "source": [
    "url = \"https://da.lacounty.gov/sites/default/files/pdf/JSID-OIS-07-15-21-Hunter.pdf\"\n",
    "title = \"Fatal Officer Involved Shooting of Rodney Hunter\"\n",
    "deputies_by_dept = { \"Cal Poly Pomona Police Department\": [\"Officer Marc Simpson\", \"S014\"] ,\n",
    "                    \"Pomona Police Department\": [\"Officer Frank Sacca\", \"41873\"]\n",
    "                   } # maybe throw out the names, just keep the numbers?\n",
    "jsid = \"18-0279\"\n",
    "date = \"July 15 2021\"\n",
    "files = [\"L.A.S.D. File #018-00049-3199-011\",\n",
    "    \"Cal Poly Pomona Police Department File #18-454\",\n",
    "         \"Pomona Police Department File #18-73935\"]\n",
    "\n",
    "constr = \"\"\"We conclude that Sacca and Simpson acted lawfully in self defense when they used deadly force.\"\"\"\n",
    "\n",
    "anomaly_rows += [[url, title, str(deputies_by_dept), jsid, date, files, constr]]\n"
   ]
  },
  {
   "cell_type": "code",
   "execution_count": 44,
   "id": "8acd9429",
   "metadata": {},
   "outputs": [],
   "source": [
    "# what remains?\n",
    "# strip title. extract victim names. after \"of \" until \" and\" or EOS\n",
    "# isolate badge numbers. \n",
    "## what should you do about the names? forget them? no, stick to just LAPD and LASD. then all are paired.\n",
    "# process dates\n",
    "# process the conclusions - buckets?\n",
    "## liable, insufficient evidence, not liable. \n",
    "\n",
    "# BIG THING: figure out if you're able to transformer geotag. otherwise, do it manually\n",
    "\n",
    "final_table = pd.DataFrame(shooting_csv + anomaly_rows)"
   ]
  },
  {
   "cell_type": "code",
   "execution_count": 45,
   "id": "bd89565a",
   "metadata": {},
   "outputs": [],
   "source": [
    "# extract victim names from final_table[1]\n",
    "# isolate badge numbers from final_table[2]\n",
    "# process dates in final_table[4]\n",
    "final_table[4] = final_table[4].apply(lambda x: datetime.strptime(x, '%B %d %Y'))\n",
    "\n",
    "# conclusion buckets from final_table[6]"
   ]
  },
  {
   "cell_type": "code",
   "execution_count": 66,
   "id": "41c5a70a",
   "metadata": {},
   "outputs": [
    {
     "data": {
      "text/plain": [
       "(Jaime Ruiz,)"
      ]
     },
     "execution_count": 66,
     "metadata": {},
     "output_type": "execute_result"
    }
   ],
   "source": []
  },
  {
   "cell_type": "code",
   "execution_count": 94,
   "id": "fea55f39",
   "metadata": {},
   "outputs": [],
   "source": [
    "def stripname(s):\n",
    "    s = re.sub(' +', ' ', s) # strip extra whitespaces\n",
    "    s = re.sub(r'(?<=[^a-zA-Z]) (?<=.)', '',s) \n",
    "    s = re.sub(r'(?<=.) (?<=[^a-zA-Z])', '',s) # remove all spaces between non-letters\n",
    "    # extract everything between of/and and and/EOS.\n",
    "    return s"
   ]
  },
  {
   "cell_type": "code",
   "execution_count": 93,
   "id": "c1f6b978",
   "metadata": {},
   "outputs": [
    {
     "data": {
      "text/plain": [
       "'Fatal Officer Involved Shooting of Wendy Carolina Flores  De Rogue   and Non-Fatal Officer  Involved Shooting of Franklin Moran'"
      ]
     },
     "execution_count": 93,
     "metadata": {},
     "output_type": "execute_result"
    }
   ],
   "source": [
    "\"Fatal Officer Involved Shooting of Wendy Carolina Flores  De Rogue   and Non-Fatal Officer  Involved Shooting of Franklin Moran  \".strip()"
   ]
  },
  {
   "cell_type": "code",
   "execution_count": 54,
   "id": "d515d030",
   "metadata": {},
   "outputs": [],
   "source": [
    "\n",
    "from transformers import pipeline\n",
    "\n",
    "summarizer = pipeline(\"summarization\", model=\"facebook/bart-large-cnn\")"
   ]
  },
  {
   "cell_type": "code",
   "execution_count": 158,
   "id": "9ec8f016",
   "metadata": {},
   "outputs": [
    {
     "data": {
      "text/plain": [
       "'September'"
      ]
     },
     "execution_count": 158,
     "metadata": {},
     "output_type": "execute_result"
    }
   ],
   "source": []
  },
  {
   "cell_type": "code",
   "execution_count": 54,
   "id": "13c57ca9",
   "metadata": {},
   "outputs": [],
   "source": [
    "with open(\"shootings.csv\",\"w+\") as my_csv:\n",
    "    csvWriter = csv.writer(my_csv)\n",
    "    csvWriter.writerows(shooting_csv+anomaly_rows)"
   ]
  }
 ],
 "metadata": {
  "kernelspec": {
   "display_name": "Python 3 (ipykernel)",
   "language": "python",
   "name": "python3"
  },
  "language_info": {
   "codemirror_mode": {
    "name": "ipython",
    "version": 3
   },
   "file_extension": ".py",
   "mimetype": "text/x-python",
   "name": "python",
   "nbconvert_exporter": "python",
   "pygments_lexer": "ipython3",
   "version": "3.9.7"
  }
 },
 "nbformat": 4,
 "nbformat_minor": 5
}
