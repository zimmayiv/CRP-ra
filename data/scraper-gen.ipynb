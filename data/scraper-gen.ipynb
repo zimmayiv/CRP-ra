{
 "cells": [
  {
   "cell_type": "code",
   "execution_count": 6,
   "id": "d9caff41",
   "metadata": {},
   "outputs": [
    {
     "data": {
      "text/plain": [
       "[]"
      ]
     },
     "execution_count": 6,
     "metadata": {},
     "output_type": "execute_result"
    }
   ],
   "source": [
    "from civic_scraper.platforms import CivicPlusSite\n",
    "\n",
    "url = \"https://recordsrequest.lacity.org/requests\"\n",
    "site = CivicPlusSite(url)\n",
    "site.scrape(\n",
    "  download=True,\n",
    "  file_size=20,\n",
    ")\n",
    "\n",
    "# this package doesn't seem to work super well"
   ]
  },
  {
   "cell_type": "code",
   "execution_count": null,
   "id": "9ccb25ed",
   "metadata": {},
   "outputs": [],
   "source": []
  }
 ],
 "metadata": {
  "kernelspec": {
   "display_name": "Python 3 (ipykernel)",
   "language": "python",
   "name": "python3"
  },
  "language_info": {
   "codemirror_mode": {
    "name": "ipython",
    "version": 3
   },
   "file_extension": ".py",
   "mimetype": "text/x-python",
   "name": "python",
   "nbconvert_exporter": "python",
   "pygments_lexer": "ipython3",
   "version": "3.9.7"
  }
 },
 "nbformat": 4,
 "nbformat_minor": 5
}
